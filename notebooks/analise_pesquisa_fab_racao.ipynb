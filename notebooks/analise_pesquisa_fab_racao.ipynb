{
 "cells": [
  {
   "cell_type": "markdown",
   "metadata": {},
   "source": [
    "# Análise da Pesquisa sobre Falhas na Entrega de Rações"
   ]
  },
  {
   "cell_type": "code",
   "execution_count": null,
   "metadata": {},
   "outputs": [],
   "source": [
    "!pip install -r ../requirements.txt"
   ]
  },
  {
   "cell_type": "code",
   "execution_count": null,
   "metadata": {},
   "outputs": [],
   "source": [
    "import pandas as pd\n",
    "import matplotlib.pyplot as plt\n",
    "import seaborn as sns\n",
    "import re\n",
    "import os\n",
    "from IPython.display import display, Markdown, Image\n",
    "from sklearn.feature_extraction.text import CountVectorizer\n",
    "from sklearn.decomposition import LatentDirichletAllocation\n",
    "import nltk\n",
    "nltk.download('stopwords')\n",
    "from nltk.corpus import stopwords"
   ]
  },
  {
   "cell_type": "code",
   "execution_count": null,
   "metadata": {},
   "outputs": [],
   "source": [
    "# Run the main script to process data and generate charts\n",
    "!python ../main.py"
   ]
  },
  {
   "cell_type": "markdown",
   "metadata": {},
   "source": [
    "## Introdução\n",
    "\n",
    "Este relatório apresenta uma análise aprofundada das respostas coletadas através do formulário sobre falhas na entrega de rações. O objetivo é compreender os principais problemas enfrentados pelos diferentes atores da cadeia produtiva, identificar os sentimentos predominantes e propor ações de melhoria para otimizar o processo logístico."
   ]
  },
  {
   "cell_type": "markdown",
   "metadata": {},
   "source": [
    "## Metodologia\n",
    "\n",
    "A análise foi realizada em três etapas principais:\n",
    "\n",
    "1.  **Segmentação por Perfil:** As respostas foram agrupadas de acordo com o perfil do respondente (Produtor, Veterinário/Extensionista, Motorista, Gestão, etc.).\n",
    "2.  **Análise de Sentimento e Padrões:** As respostas de cada grupo foram examinadas para identificar os principais problemas, a frequência com que ocorrem e o sentimento geral (negativo, neutro, positivo).\n",
    "3.  **Elaboração do Diagnóstico e Recomendações:** Com base nos padrões identificados, foi elaborado um diagnóstico consolidado e um conjunto de ações de melhoria."
   ]
  },
  {
   "cell_type": "markdown",
   "metadata": {},
   "source": [
    "## Visualização dos Dados"
   ]
  },
  {
   "cell_type": "code",
   "execution_count": null,
   "metadata": {},
   "outputs": [],
   "source": [
    "display(Markdown('### Frequência de Problemas por Perfil de Ator'))\n",
    "display(Image(filename='../plots/problemas_por_perfil.png'))\n",
    "display(Markdown('### Frequência de Sugestões de Melhoria por Perfil de Ator'))\n",
    "display(Image(filename='../plots/sugestoes_por_perfil.png'))\n",
    "display(Markdown('### Análise de Pareto dos Problemas (Agregado)'))\n",
    "display(Image(filename='../plots/pareto_problemas_agregado.png'))"
   ]
  },
  {
   "cell_type": "markdown",
   "metadata": {},
   "source": [
    "## Análise Estratégica"
   ]
  },
  {
   "cell_type": "code",
   "execution_count": null,
   "metadata": {},
   "outputs": [],
   "source": [
    "with open('../docs/strategic_analysis_output.txt', 'r', encoding='utf-8') as f:\n",
    "    strategic_analysis = f.read()\n",
    "display(Markdown(strategic_analysis))"
   ]
  },
  {
   "cell_type": "markdown",
   "metadata": {},
   "source": [
    "## Análise de Tópicos com NLP"
   ]
  },
  {
   "cell_type": "code",
   "execution_count": null,
   "metadata": {},
   "outputs": [],
   "source": [
    "def get_topics(data, n_topics=5, n_top_words=5):\n",
    "    stop_words = stopwords.words('portuguese')\n",
    "    vectorizer = CountVectorizer(stop_words=stop_words)\n",
    "    X = vectorizer.fit_transform(data)\n",
    "    lda = LatentDirichletAllocation(n_components=n_topics, random_state=42)\n",
    "    lda.fit(X)\n",
    "    feature_names = vectorizer.get_feature_names_out()\n",
    "    topics = []\n",
    "    for topic_idx, topic in enumerate(lda.components_):\n",
    "        top_words = [feature_names[i] for i in topic.argsort()[:-n_top_words - 1:-1]]\n",
    "        topics.append(f'Tópico {topic_idx + 1}: {", ".join(top_words)}')\n",
    "    return topics\n",
    "\n",
    "with open('../docs/analysis_by_profile.txt', 'r', encoding='utf-8') as f:\n",
    "    content = f.read()\n",
    "\n",
    "responses = re.findall(r'- Resposta \\d+: (.*)', content)\n",
    "\n",
    "topics = get_topics(responses)\n",
    "display(Markdown('### Principais Tópicos Mencionados nas Respostas'))\n",
    "for topic in topics:\n",
    "    display(Markdown(f'- {topic}'))"
   ]
  }
 ],
 "metadata": {
  "kernelspec": {
   "display_name": "Python 3",
   "language": "python",
   "name": "python3"
  },
  "language_info": {
   "codemirror_mode": {
    "name": "ipython",
    "version": 3
   },
   "file_extension": ".py",
   "mimetype": "text/x-python",
   "name": "python",
   "nbconvert_exporter": "python",
   "pygments_lexer": "ipython3",
   "version": "3.13.7"
  }
 },
 "nbformat": 4,
 "nbformat_minor": 5
}